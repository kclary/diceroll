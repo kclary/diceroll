{
 "cells": [
  {
   "cell_type": "code",
   "execution_count": 52,
   "metadata": {},
   "outputs": [],
   "source": [
    "%matplotlib inline  \n",
    "\n",
    "import numpy as np\n",
    "import matplotlib\n",
    "import matplotlib.pyplot as plt"
   ]
  },
  {
   "cell_type": "code",
   "execution_count": 54,
   "metadata": {},
   "outputs": [],
   "source": [
    "# roll 4 D6\n",
    "stats_roll = np.random.randint(low=1, high=7, size=(4,1000000))\n",
    "\n",
    "# drop the minimum and find the sum of rolls\n",
    "def sum_drop_min(rolls): \n",
    "    # remove lowest roll\n",
    "    rolls[np.argmin(rolls)] = 0\n",
    "    return sum(rolls)\n",
    "\n",
    "final_stats = np.apply_along_axis(sum_drop_min, 0, stats_roll)"
   ]
  },
  {
   "cell_type": "code",
   "execution_count": 59,
   "metadata": {},
   "outputs": [
    {
     "data": {
      "text/plain": [
       "(array([   789.,   3103.,   7852.,  16205.,  29456.,  47821.,  70017.,\n",
       "         94350., 113880., 129034., 132349., 123789., 100787.,  72481.,\n",
       "         58087.]),\n",
       " array([ 3,  4,  5,  6,  7,  8,  9, 10, 11, 12, 13, 14, 15, 16, 17, 18]),\n",
       " <a list of 15 Patch objects>)"
      ]
     },
     "execution_count": 59,
     "metadata": {},
     "output_type": "execute_result"
    },
    {
     "data": {
      "image/png": "[encoded data removed]",
      "text/plain": [
       "<Figure size 432x288 with 1 Axes>"
      ]
     },
     "metadata": {
      "needs_background": "light"
     },
     "output_type": "display_data"
    }
   ],
   "source": [
    "matplotlib.pyplot.hist(final_stats, bins=range(3,19))"
   ]
  }
 ],
 "metadata": {
  "kernelspec": {
   "display_name": "Python 3",
   "language": "python",
   "name": "python3"
  },
  "language_info": {
   "codemirror_mode": {
    "name": "ipython",
    "version": 3
   },
   "file_extension": ".py",
   "mimetype": "text/x-python",
   "name": "python",
   "nbconvert_exporter": "python",
   "pygments_lexer": "ipython3",
   "version": "3.5.6"
  }
 },
 "nbformat": 4,
 "nbformat_minor": 2
}
